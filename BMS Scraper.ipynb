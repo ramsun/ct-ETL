{
 "cells": [
  {
   "cell_type": "markdown",
   "metadata": {},
   "source": [
    "# Bristol Myers Squibb ETL\n",
    "---\n",
    "## The purpose of this script is to scrape research locations from BMS's website."
   ]
  },
  {
   "cell_type": "code",
   "execution_count": 1,
   "metadata": {},
   "outputs": [],
   "source": [
    "# Dependencies\n",
    "\n",
    "# Web scraping dependencies\n",
    "from bs4 import BeautifulSoup\n",
    "\n",
    "# Asynchronous scraping dependencies\n",
    "import time\n",
    "from selenium import webdriver\n",
    "\n",
    "# Database deployment dependencies\n",
    "import pymongo\n",
    "\n",
    "# Data Dependencies\n",
    "import pandas as pd"
   ]
  },
  {
   "cell_type": "markdown",
   "metadata": {},
   "source": [
    "# Create MongoDB connection"
   ]
  },
  {
   "cell_type": "code",
   "execution_count": 2,
   "metadata": {},
   "outputs": [
    {
     "data": {
      "text/plain": [
       "{'ok': 0.0,\n",
       " 'errmsg': 'ns not found',\n",
       " 'code': 26,\n",
       " 'codeName': 'NamespaceNotFound'}"
      ]
     },
     "execution_count": 2,
     "metadata": {},
     "output_type": "execute_result"
    }
   ],
   "source": [
    "# Set up connection to localhost and connect to a client\n",
    "conn = 'mongodb://localhost:27017'\n",
    "client = pymongo.MongoClient(conn)\n",
    "\n",
    "# Create a new database\n",
    "db = client.clinical_trial_db\n",
    "\n",
    "# Create a new collection and reset the collection\n",
    "collection = db.bristol_myers_squibb\n",
    "db.drop_collection(collection)"
   ]
  },
  {
   "cell_type": "markdown",
   "metadata": {},
   "source": [
    "# Extract HTML Site Data From BMS"
   ]
  },
  {
   "cell_type": "code",
   "execution_count": 3,
   "metadata": {},
   "outputs": [],
   "source": [
    "# Chromedriver set-up\n",
    "executable_path = {'executable_path': 'chromedriver.exe'}\n",
    "browser = webdriver.Chrome(**executable_path)\n",
    "url = 'https://www.bmsstudyconnect.com/content/studyconnect/us/en/sites-list.html?id=NCT01357668&language=en&geo_lati=&geo_long=&location='\n",
    "browser.get(url)\n",
    "\n",
    "# 20 second time delay is so that the page can load and all information can be scraped\n",
    "time.sleep(20)\n",
    "\n",
    "# Scrape the html on the site after the timer is done\n",
    "html = browser.page_source\n",
    "soup = BeautifulSoup(html, 'html.parser')\n",
    "\n",
    "# set the class definition to only find divs that match a specific kind of class\n",
    "research_divs = soup.find_all(\"div\", {\"class\": \"grid-x grid-margin-x bmssc-result-item bmssc-site-result\"})\n",
    "\n",
    "# find the trial_id from the page as well\n",
    "trial_id = soup.find(\"span\", id=\"trail-id-each\").text"
   ]
  },
  {
   "cell_type": "markdown",
   "metadata": {},
   "source": [
    "# Parse HTML and load to database"
   ]
  },
  {
   "cell_type": "code",
   "execution_count": 4,
   "metadata": {
    "scrolled": true
   },
   "outputs": [],
   "source": [
    "# Loop through returned results in research_divs\n",
    "# These list boxes contain the research site locations and their current recruitment status\n",
    "for result in research_divs:\n",
    "    # Error handling\n",
    "    # Handles cases where HTML atributes do not exist within a particular result in the research_divs list\n",
    "    try:\n",
    "        # Return the location of the research site\n",
    "        location = result.find('div', class_ = \"bmssc-type-medium--alternate bmssc-color-dark-grey\").text\n",
    "        \n",
    "        # Case 1: The research site is currently Recruiting\n",
    "        is_recruiting = result.find('div', class_=\"hide-for-medium bmssc-status--indicator is-recruiting active\").text\n",
    "        \n",
    "        # Modify strings\n",
    "        is_recruiting = is_recruiting.replace(\" \", \"\")\n",
    "        is_recruiting = is_recruiting.replace(\"\\n\", \"\")\n",
    "        \n",
    "        # update location_dict\n",
    "        location_dict = { trial_id: { \"status\" : is_recruiting, \"location\": location} }\n",
    "\n",
    "        # insert into the collection\n",
    "        collection.insert_one(location_dict)\n",
    "    \n",
    "    # Make exception for html attribute not existing\n",
    "    except AttributeError as e:\n",
    "        # Case 2: The research site is not recruiting yet \n",
    "        not_recruiting = result.find('div', class_=\"hide-for-medium bmssc-status--indicator is-notyetrecruiting active\").text\n",
    "        \n",
    "        # Modify strings\n",
    "        not_recruiting = not_recruiting.replace(\" \", \"\")\n",
    "        not_recruiting = not_recruiting.replace(\"\\n\", \"\")\n",
    "        \n",
    "        # update location_dict\n",
    "        location_dict = { trial_id: { \"status\" : not_recruiting, \"location\": location} }\n",
    "        \n",
    "        # insert into the collection\n",
    "        collection.insert_one(location_dict)"
   ]
  },
  {
   "cell_type": "code",
   "execution_count": 5,
   "metadata": {},
   "outputs": [
    {
     "name": "stdout",
     "output_type": "stream",
     "text": [
      "{'_id': ObjectId('5cb1709decb18b605c898ce0'), 'IM101-240': {'status': 'Recruiting', 'location': 'Little Rock, Arkansas 72202'}}\n",
      "{'_id': ObjectId('5cb1709decb18b605c898ce1'), 'IM101-240': {'status': 'Recruiting', 'location': 'Valencia 46009'}}\n",
      "{'_id': ObjectId('5cb1709decb18b605c898ce2'), 'IM101-240': {'status': 'Recruiting', 'location': 'Los Angeles, California 90027'}}\n",
      "{'_id': ObjectId('5cb1709decb18b605c898ce3'), 'IM101-240': {'status': 'Recruiting', 'location': 'Augusta, Georgia 30912'}}\n",
      "{'_id': ObjectId('5cb1709decb18b605c898ce4'), 'IM101-240': {'status': 'Recruiting', 'location': 'Chicago, Illinois 60611'}}\n",
      "{'_id': ObjectId('5cb1709decb18b605c898ce5'), 'IM101-240': {'status': 'Recruiting', 'location': 'Chicago, Illinois 60637'}}\n",
      "{'_id': ObjectId('5cb1709decb18b605c898ce6'), 'IM101-240': {'status': 'Recruiting', 'location': 'Indianapolis, Indiana 46202'}}\n",
      "{'_id': ObjectId('5cb1709decb18b605c898ce7'), 'IM101-240': {'status': 'Recruiting', 'location': 'Minneapolis, Minnesota 55454'}}\n",
      "{'_id': ObjectId('5cb1709decb18b605c898ce8'), 'IM101-240': {'status': 'Recruiting', 'location': 'Saint Louis, Missouri 63104'}}\n",
      "{'_id': ObjectId('5cb1709decb18b605c898ce9'), 'IM101-240': {'status': 'Recruiting', 'location': 'Little Rock, Arkansas 72202'}}\n",
      "{'_id': ObjectId('5cb1709decb18b605c898cea'), 'IM101-240': {'status': 'Recruiting', 'location': 'Valencia 46009'}}\n",
      "{'_id': ObjectId('5cb1709decb18b605c898ceb'), 'IM101-240': {'status': 'Recruiting', 'location': 'Los Angeles, California 90027'}}\n",
      "{'_id': ObjectId('5cb1709decb18b605c898cec'), 'IM101-240': {'status': 'Recruiting', 'location': 'Augusta, Georgia 30912'}}\n",
      "{'_id': ObjectId('5cb1709decb18b605c898ced'), 'IM101-240': {'status': 'Recruiting', 'location': 'Chicago, Illinois 60611'}}\n",
      "{'_id': ObjectId('5cb1709decb18b605c898cee'), 'IM101-240': {'status': 'Recruiting', 'location': 'Chicago, Illinois 60637'}}\n",
      "{'_id': ObjectId('5cb1709decb18b605c898cef'), 'IM101-240': {'status': 'Recruiting', 'location': 'Indianapolis, Indiana 46202'}}\n",
      "{'_id': ObjectId('5cb1709decb18b605c898cf0'), 'IM101-240': {'status': 'Recruiting', 'location': 'Minneapolis, Minnesota 55454'}}\n",
      "{'_id': ObjectId('5cb1709decb18b605c898cf1'), 'IM101-240': {'status': 'Recruiting', 'location': 'Saint Louis, Missouri 63104'}}\n",
      "{'_id': ObjectId('5cb1709decb18b605c898cf2'), 'IM101-240': {'status': 'Recruiting', 'location': 'Murcia 30120'}}\n",
      "{'_id': ObjectId('5cb1709decb18b605c898cf3'), 'IM101-240': {'status': 'Recruiting', 'location': 'Madrid 28046'}}\n",
      "{'_id': ObjectId('5cb1709decb18b605c898cf4'), 'IM101-240': {'status': 'Recruiting', 'location': 'Esplugues (Barcelona) 8950'}}\n",
      "{'_id': ObjectId('5cb1709decb18b605c898cf5'), 'IM101-240': {'status': 'Recruiting', 'location': 'Barcelona 8035'}}\n",
      "{'_id': ObjectId('5cb1709decb18b605c898cf6'), 'IM101-240': {'status': 'Recruiting', 'location': 'San Juan 00919-5206'}}\n",
      "{'_id': ObjectId('5cb1709decb18b605c898cf7'), 'IM101-240': {'status': 'Recruiting', 'location': 'Guadalajara 44620'}}\n",
      "{'_id': ObjectId('5cb1709decb18b605c898cf8'), 'IM101-240': {'status': 'Recruiting', 'location': 'Pisa 56100'}}\n",
      "{'_id': ObjectId('5cb1709decb18b605c898cf9'), 'IM101-240': {'status': 'Recruiting', 'location': 'Padova 35128'}}\n",
      "{'_id': ObjectId('5cb1709decb18b605c898cfa'), 'IM101-240': {'status': 'Recruiting', 'location': 'Genova 16147'}}\n",
      "{'_id': ObjectId('5cb1709decb18b605c898cfb'), 'IM101-240': {'status': 'Recruiting', 'location': 'Firenze 50139'}}\n",
      "{'_id': ObjectId('5cb1709decb18b605c898cfc'), 'IM101-240': {'status': 'Recruiting', 'location': 'Sankt Augustin D-53757'}}\n",
      "{'_id': ObjectId('5cb1709decb18b605c898cfd'), 'IM101-240': {'status': 'Recruiting', 'location': 'Heidelberg 69120'}}\n",
      "{'_id': ObjectId('5cb1709decb18b605c898cfe'), 'IM101-240': {'status': 'Recruiting', 'location': 'Hamburg D-22081'}}\n",
      "{'_id': ObjectId('5cb1709decb18b605c898cff'), 'IM101-240': {'status': 'Recruiting', 'location': 'Freiburg 79106'}}\n",
      "{'_id': ObjectId('5cb1709decb18b605c898d00'), 'IM101-240': {'status': 'Recruiting', 'location': 'Berlin 13353'}}\n",
      "{'_id': ObjectId('5cb1709decb18b605c898d01'), 'IM101-240': {'status': 'Recruiting', 'location': 'Bad Bramstedt 24576'}}\n",
      "{'_id': ObjectId('5cb1709decb18b605c898d02'), 'IM101-240': {'status': 'Recruiting', 'location': 'Montreal, Quebec H3H 1P3'}}\n",
      "{'_id': ObjectId('5cb1709decb18b605c898d03'), 'IM101-240': {'status': 'Recruiting', 'location': 'Toronto, Ontario M5G 1X8'}}\n",
      "{'_id': ObjectId('5cb1709decb18b605c898d04'), 'IM101-240': {'status': 'Recruiting', 'location': 'Halifax, Nova Scotia B3K 6R8'}}\n",
      "{'_id': ObjectId('5cb1709decb18b605c898d05'), 'IM101-240': {'status': 'Recruiting', 'location': 'Vancouver, British Columbia V6H 3V4'}}\n",
      "{'_id': ObjectId('5cb1709decb18b605c898d06'), 'IM101-240': {'status': 'Recruiting', 'location': 'São Paulo 04038-001'}}\n",
      "{'_id': ObjectId('5cb1709eecb18b605c898d07'), 'IM101-240': {'status': 'Recruiting', 'location': 'Rio de Janeiro 21941-912'}}\n",
      "{'_id': ObjectId('5cb1709eecb18b605c898d08'), 'IM101-240': {'status': 'Recruiting', 'location': 'Campinas 13078500'}}\n",
      "{'_id': ObjectId('5cb1709eecb18b605c898d09'), 'IM101-240': {'status': 'Recruiting', 'location': 'Botucatu 18618-970'}}\n",
      "{'_id': ObjectId('5cb1709eecb18b605c898d0a'), 'IM101-240': {'status': 'Recruiting', 'location': 'Innsbruck A-6020'}}\n",
      "{'_id': ObjectId('5cb1709eecb18b605c898d0b'), 'IM101-240': {'status': 'Recruiting', 'location': 'Bregenz A-6900'}}\n",
      "{'_id': ObjectId('5cb1709eecb18b605c898d0c'), 'IM101-240': {'status': 'Recruiting', 'location': 'Milwaukee, Wisconsin 53201'}}\n",
      "{'_id': ObjectId('5cb1709eecb18b605c898d0d'), 'IM101-240': {'status': 'Recruiting', 'location': 'Salt Lake City, Utah 84112'}}\n",
      "{'_id': ObjectId('5cb1709eecb18b605c898d0e'), 'IM101-240': {'status': 'Recruiting', 'location': 'Austin, Texas 78701'}}\n",
      "{'_id': ObjectId('5cb1709eecb18b605c898d0f'), 'IM101-240': {'status': 'Recruiting', 'location': 'Pittsburgh, Pennsylvania 15224'}}\n",
      "{'_id': ObjectId('5cb1709eecb18b605c898d10'), 'IM101-240': {'status': 'Recruiting', 'location': 'Philadelphia, Pennsylvania 19134'}}\n",
      "{'_id': ObjectId('5cb1709eecb18b605c898d11'), 'IM101-240': {'status': 'Recruiting', 'location': 'Portland, Oregon 97227'}}\n",
      "{'_id': ObjectId('5cb1709eecb18b605c898d12'), 'IM101-240': {'status': 'Recruiting', 'location': 'Cleveland, Ohio 44195'}}\n",
      "{'_id': ObjectId('5cb1709eecb18b605c898d13'), 'IM101-240': {'status': 'Recruiting', 'location': 'Cincinnati, Ohio 45229'}}\n",
      "{'_id': ObjectId('5cb1709eecb18b605c898d14'), 'IM101-240': {'status': 'Recruiting', 'location': 'Charlotte, North Carolina 28207'}}\n",
      "{'_id': ObjectId('5cb1709eecb18b605c898d15'), 'IM101-240': {'status': 'Recruiting', 'location': 'New Brunswick, New Jersey 08901'}}\n",
      "{'_id': ObjectId('5cb1709eecb18b605c898d16'), 'IM101-240': {'status': 'Recruiting', 'location': 'Livingston, New Jersey 07039'}}\n",
      "{'_id': ObjectId('5cb1709eecb18b605c898d17'), 'IM101-240': {'status': 'NotYetRecruiting', 'location': 'Napoli 80138'}}\n",
      "{'_id': ObjectId('5cb1709eecb18b605c898d18'), 'IM101-240': {'status': 'NotYetRecruiting', 'location': 'Nashville, Tennessee 37203'}}\n",
      "{'_id': ObjectId('5cb1709eecb18b605c898d19'), 'IM101-240': {'status': 'NotYetRecruiting', 'location': 'Philadelphia, Pennsylvania 19104'}}\n",
      "{'_id': ObjectId('5cb1709eecb18b605c898d1a'), 'IM101-240': {'status': 'NotYetRecruiting', 'location': 'Kansas City, Missouri 64108'}}\n",
      "{'_id': ObjectId('5cb1709eecb18b605c898d1b'), 'IM101-240': {'status': 'NotYetRecruiting', 'location': 'Gainesville, Florida 32611-0158'}}\n",
      "{'_id': ObjectId('5cb1709eecb18b605c898d1c'), 'IM101-240': {'status': 'NotYetRecruiting', 'location': 'Tromso 9019'}}\n",
      "{'_id': ObjectId('5cb1709eecb18b605c898d1d'), 'IM101-240': {'status': 'NotYetRecruiting', 'location': 'Torino 10126'}}\n"
     ]
    }
   ],
   "source": [
    "# Display items in MongoDB collection\n",
    "listings = db.bristol_myers_squibb.find()\n",
    "\n",
    "for listing in listings:\n",
    "    print(listing)"
   ]
  }
 ],
 "metadata": {
  "kernelspec": {
   "display_name": "Python 3",
   "language": "python",
   "name": "python3"
  },
  "language_info": {
   "codemirror_mode": {
    "name": "ipython",
    "version": 3
   },
   "file_extension": ".py",
   "mimetype": "text/x-python",
   "name": "python",
   "nbconvert_exporter": "python",
   "pygments_lexer": "ipython3",
   "version": "3.7.1"
  }
 },
 "nbformat": 4,
 "nbformat_minor": 2
}
