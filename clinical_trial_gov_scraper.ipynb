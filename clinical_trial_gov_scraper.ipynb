{
 "cells": [
  {
   "cell_type": "markdown",
   "metadata": {},
   "source": [
    "# ClinicalTrials.gov ETL\n",
    "---\n",
    "## The purpose of this script is to scrape research locations from ClinicalTrials.gov's website and load it into a database for warehousing."
   ]
  },
  {
   "cell_type": "code",
   "execution_count": 1,
   "metadata": {},
   "outputs": [],
   "source": [
    "# import dependencies\n",
    "import bs4\n",
    "from collections import defaultdict    \n",
    "from bs4 import BeautifulSoup    \n",
    "import requests\n",
    "import pandas as pd\n",
    "import pymongo\n",
    "import json\n",
    "from bson import json_util"
   ]
  },
  {
   "cell_type": "markdown",
   "metadata": {},
   "source": [
    "# Create MongoDB connection"
   ]
  },
  {
   "cell_type": "code",
   "execution_count": 2,
   "metadata": {},
   "outputs": [
    {
     "data": {
      "text/plain": [
       "{'ok': 0.0,\n",
       " 'errmsg': 'ns not found',\n",
       " 'code': 26,\n",
       " 'codeName': 'NamespaceNotFound'}"
      ]
     },
     "execution_count": 2,
     "metadata": {},
     "output_type": "execute_result"
    }
   ],
   "source": [
    "# make a mongo connection\n",
    "conn = 'mongodb://localhost:27017'\n",
    "client = pymongo.MongoClient(conn)\n",
    "\n",
    "# Create a new database\n",
    "db = client.clinical_trial_db\n",
    "\n",
    "# Create a new collection and reset the collection\n",
    "collection = db.ct_gov\n",
    "db.drop_collection(collection)"
   ]
  },
  {
   "cell_type": "markdown",
   "metadata": {},
   "source": [
    "# Extract and transform XML site data"
   ]
  },
  {
   "cell_type": "code",
   "execution_count": 3,
   "metadata": {},
   "outputs": [],
   "source": [
    "# Input: Research id used for querying from clinicaltrials.gov\n",
    "# Ouput: Returns a dictionary of lists of cleaned XML site data\n",
    "# Purpose: Function takes a nctid string as input and ouputs cleaned XML data.\n",
    "#          The nctid is querried in the website using the request.get(URL) method.\n",
    "#          This queried xml is loaded into a soup object, which is then used\n",
    "#          to parse the xml into the \"data\" dictionary list object.\n",
    "def clinicalTrialsGov(nctid):\n",
    "    \n",
    "    # Initialize dictionary list\n",
    "    data = defaultdict(list)\n",
    "    \n",
    "    # Load XML into soup object\n",
    "    soup = BeautifulSoup(requests.get(\"https://clinicaltrials.gov/ct2/show/\"\\\n",
    "                                      + nctid + \"?displayxml=true\").text, \"xml\")\n",
    "    \n",
    "    # Create list of tags that will be scraped from the \"soup\" object\n",
    "    subset = ['name','status','city', 'zip']\n",
    "    \n",
    "    # Find all subset tags in the soup object\n",
    "    for tag in soup.find_all(subset):\n",
    "        # Transform the found location data and put into the \"data\" object\n",
    "        data['ct{}'.format(tag.name.capitalize())].append(tag.get_text(strip=True))\n",
    "    \n",
    "    # Return the \"data\" object\n",
    "    return data\n",
    "\n",
    "# Create a dictionary of scraped data for the NCT01592370 tag\n",
    "data = clinicalTrialsGov('NCT01592370')"
   ]
  },
  {
   "cell_type": "markdown",
   "metadata": {},
   "source": [
    "# Load to MongoDB"
   ]
  },
  {
   "cell_type": "code",
   "execution_count": 4,
   "metadata": {
    "scrolled": true
   },
   "outputs": [
    {
     "name": "stdout",
     "output_type": "stream",
     "text": [
      "{'_id': ObjectId('5cb36e58ecb18b0180aac644'), 'NCT': 'NCT01592370', 'name': 'Local Institution', 'status': 'Withdrawn', 'city': 'Little Rock', 'zip': '72205'}\n",
      "{'_id': ObjectId('5cb36e58ecb18b0180aac645'), 'NCT': 'NCT01592370', 'name': 'Local Institution', 'status': 'Not yet recruiting', 'city': 'Fresno', 'zip': '93701'}\n",
      "{'_id': ObjectId('5cb36e58ecb18b0180aac646'), 'NCT': 'NCT01592370', 'name': 'Local Institution', 'status': 'Withdrawn', 'city': 'Long Beach', 'zip': '90813'}\n",
      "{'_id': ObjectId('5cb36e58ecb18b0180aac647'), 'NCT': 'NCT01592370', 'name': 'Division Of Hematology & Oncology Ctr. For Health Sciences', 'status': 'Active, not recruiting', 'city': 'Los Angeles', 'zip': '90095'}\n",
      "{'_id': ObjectId('5cb36e58ecb18b0180aac648'), 'NCT': 'NCT01592370', 'name': 'University of Colorado Denver', 'status': 'Recruiting', 'city': 'Aurora', 'zip': '80045'}\n",
      "{'_id': ObjectId('5cb36e58ecb18b0180aac649'), 'NCT': 'NCT01592370', 'name': 'Yale University School Of Medicine', 'status': 'Completed', 'city': 'New Haven', 'zip': '06520'}\n",
      "{'_id': ObjectId('5cb36e58ecb18b0180aac64a'), 'NCT': 'NCT01592370', 'name': 'Local Institution', 'status': 'Withdrawn', 'city': 'Gainesville', 'zip': '32608'}\n",
      "{'_id': ObjectId('5cb36e58ecb18b0180aac64b'), 'NCT': 'NCT01592370', 'name': 'Local Institution', 'status': 'Withdrawn', 'city': 'Miami', 'zip': '33136'}\n",
      "{'_id': ObjectId('5cb36e58ecb18b0180aac64c'), 'NCT': 'NCT01592370', 'name': 'Cancer Institute Of Florida', 'status': 'Recruiting', 'city': 'Orlando', 'zip': '32804'}\n",
      "{'_id': ObjectId('5cb36e58ecb18b0180aac64d'), 'NCT': 'NCT01592370', 'name': 'Local Institution', 'status': 'Withdrawn', 'city': 'Tampa', 'zip': '33612-9497'}\n",
      "{'_id': ObjectId('5cb36e58ecb18b0180aac64e'), 'NCT': 'NCT01592370', 'name': 'Local Institution', 'status': 'Withdrawn', 'city': 'Atlanta', 'zip': '30322'}\n",
      "{'_id': ObjectId('5cb36e58ecb18b0180aac64f'), 'NCT': 'NCT01592370', 'name': 'Local Institution', 'status': 'Not yet recruiting', 'city': 'Skokie', 'zip': '60077'}\n",
      "{'_id': ObjectId('5cb36e58ecb18b0180aac650'), 'NCT': 'NCT01592370', 'name': 'Indiana University Melvin & Bren Simon Cancer Center', 'status': 'Recruiting', 'city': 'Indianapolis', 'zip': '46202'}\n",
      "{'_id': ObjectId('5cb36e58ecb18b0180aac651'), 'NCT': 'NCT01592370', 'name': 'Local Institution', 'status': 'Withdrawn', 'city': 'Lafayette', 'zip': '47905'}\n",
      "{'_id': ObjectId('5cb36e58ecb18b0180aac652'), 'NCT': 'NCT01592370', 'name': 'University Of Kansas Medical Center', 'status': 'Recruiting', 'city': 'Kansas City', 'zip': '66205'}\n",
      "{'_id': ObjectId('5cb36e58ecb18b0180aac653'), 'NCT': 'NCT01592370', 'name': 'The Sidney Kimmel Comprehensive Cancer Center', 'status': 'Recruiting', 'city': 'Baltimore', 'zip': '21231'}\n",
      "{'_id': ObjectId('5cb36e58ecb18b0180aac654'), 'NCT': 'NCT01592370', 'name': 'Dana Farber Cancer Institute', 'status': 'Recruiting', 'city': 'Boston', 'zip': '02215'}\n",
      "{'_id': ObjectId('5cb36e58ecb18b0180aac655'), 'NCT': 'NCT01592370', 'name': 'Dana-Farber Cancer Institute', 'status': 'Recruiting', 'city': 'Boston', 'zip': '02215'}\n",
      "{'_id': ObjectId('5cb36e58ecb18b0180aac656'), 'NCT': 'NCT01592370', 'name': 'University Of Michigan Health System', 'status': 'Active, not recruiting', 'city': 'Ann Arbor', 'zip': '48109'}\n",
      "{'_id': ObjectId('5cb36e58ecb18b0180aac657'), 'NCT': 'NCT01592370', 'name': 'Mayo Clinic', 'status': 'Recruiting', 'city': 'Rochester', 'zip': '55905'}\n",
      "{'_id': ObjectId('5cb36e58ecb18b0180aac658'), 'NCT': 'NCT01592370', 'name': 'Local Institution', 'status': 'Withdrawn', 'city': 'Saint Louis', 'zip': '63110'}\n",
      "{'_id': ObjectId('5cb36e58ecb18b0180aac659'), 'NCT': 'NCT01592370', 'name': 'Nebraska Cancer Specialists', 'status': 'Recruiting', 'city': 'Omaha', 'zip': '68130'}\n",
      "{'_id': ObjectId('5cb36e58ecb18b0180aac65a'), 'NCT': 'NCT01592370', 'name': 'John Theurer Cancer Center', 'status': 'Active, not recruiting', 'city': 'Hackensack', 'zip': '07601'}\n",
      "{'_id': ObjectId('5cb36e58ecb18b0180aac65b'), 'NCT': 'NCT01592370', 'name': 'Memorial Sloan Kettering Cancer Center', 'status': 'Recruiting', 'city': 'New York', 'zip': '10065'}\n",
      "{'_id': ObjectId('5cb36e58ecb18b0180aac65c'), 'NCT': 'NCT01592370', 'name': 'Local Institution', 'status': 'Withdrawn', 'city': 'Cleveland', 'zip': '44195'}\n",
      "{'_id': ObjectId('5cb36e58ecb18b0180aac65d'), 'NCT': 'NCT01592370', 'name': 'Ohio State University', 'status': 'Recruiting', 'city': 'Columbus', 'zip': '43210'}\n",
      "{'_id': ObjectId('5cb36e58ecb18b0180aac65e'), 'NCT': 'NCT01592370', 'name': 'Local Institution', 'status': 'Withdrawn', 'city': 'Oklahoma City', 'zip': '73142'}\n",
      "{'_id': ObjectId('5cb36e58ecb18b0180aac65f'), 'NCT': 'NCT01592370', 'name': 'OHSU Center for Hematologic Malignancies', 'status': 'Recruiting', 'city': 'Portland', 'zip': '97239'}\n",
      "{'_id': ObjectId('5cb36e58ecb18b0180aac660'), 'NCT': 'NCT01592370', 'name': 'Abramson Cancer Center', 'status': 'Completed', 'city': 'Philadelphia', 'zip': '19104'}\n",
      "{'_id': ObjectId('5cb36e58ecb18b0180aac661'), 'NCT': 'NCT01592370', 'name': 'Fox Chase Cancer Center', 'status': 'Active, not recruiting', 'city': 'Philadelphia', 'zip': '19111'}\n",
      "{'_id': ObjectId('5cb36e58ecb18b0180aac662'), 'NCT': 'NCT01592370', 'name': 'Local Institution', 'status': 'Not yet recruiting', 'city': 'Pittsburgh', 'zip': '15232'}\n",
      "{'_id': ObjectId('5cb36e58ecb18b0180aac663'), 'NCT': 'NCT01592370', 'name': 'Local Institution', 'status': 'Not yet recruiting', 'city': 'Knoxville', 'zip': '37920'}\n",
      "{'_id': ObjectId('5cb36e58ecb18b0180aac664'), 'NCT': 'NCT01592370', 'name': 'Local Institution', 'status': 'Withdrawn', 'city': 'Murray', 'zip': '84107'}\n",
      "{'_id': ObjectId('5cb36e58ecb18b0180aac665'), 'NCT': 'NCT01592370', 'name': 'Local Institution', 'status': 'Not yet recruiting', 'city': 'Saint George', 'zip': '84770'}\n",
      "{'_id': ObjectId('5cb36e58ecb18b0180aac666'), 'NCT': 'NCT01592370', 'name': 'Huntsman Cancer Institute At The Univ. Of Utah', 'status': 'Recruiting', 'city': 'Salt Lake City', 'zip': '84112'}\n",
      "{'_id': ObjectId('5cb36e58ecb18b0180aac667'), 'NCT': 'NCT01592370', 'name': 'Local Institution', 'status': 'Withdrawn', 'city': 'Salt Lake City', 'zip': '84143-0001'}\n",
      "{'_id': ObjectId('5cb36e58ecb18b0180aac668'), 'NCT': 'NCT01592370', 'name': 'Local Institution', 'status': 'Withdrawn', 'city': 'Milwaukee', 'zip': '53226'}\n",
      "{'_id': ObjectId('5cb36e58ecb18b0180aac669'), 'NCT': 'NCT01592370', 'name': 'Local Institution', 'status': 'Not yet recruiting', 'city': 'Impact Migration', 'zip': '9000'}\n",
      "{'_id': ObjectId('5cb36e58ecb18b0180aac66a'), 'NCT': 'NCT01592370', 'name': 'Local Institution', 'status': 'Not yet recruiting', 'city': 'Sint-Niklaas', 'zip': '9100'}\n",
      "{'_id': ObjectId('5cb36e58ecb18b0180aac66b'), 'NCT': 'NCT01592370', 'name': 'Local Institution', 'status': 'Not yet recruiting', 'city': 'Yvoir', 'zip': '5530'}\n",
      "{'_id': ObjectId('5cb36e58ecb18b0180aac66c'), 'NCT': 'NCT01592370', 'name': 'Local Institution', 'status': 'Not yet recruiting', 'city': 'Nantes', 'zip': '44093'}\n",
      "{'_id': ObjectId('5cb36e58ecb18b0180aac66d'), 'NCT': 'NCT01592370', 'name': 'Local Institution', 'status': 'Recruiting', 'city': 'Poitiers', 'zip': '86021'}\n",
      "{'_id': ObjectId('5cb36e58ecb18b0180aac66e'), 'NCT': 'NCT01592370', 'name': 'Local Institution', 'status': 'Not yet recruiting', 'city': 'Athens', 'zip': '11528'}\n",
      "{'_id': ObjectId('5cb36e58ecb18b0180aac66f'), 'NCT': 'NCT01592370', 'name': 'Local Institution', 'status': 'Not yet recruiting', 'city': 'Chorzow', 'zip': '41-500'}\n",
      "{'_id': ObjectId('5cb36e58ecb18b0180aac670'), 'NCT': 'NCT01592370', 'name': 'Local Institution', 'status': 'Not yet recruiting', 'city': 'Poznan', 'zip': '60-569'}\n",
      "{'_id': ObjectId('5cb36e58ecb18b0180aac671'), 'NCT': 'NCT01592370', 'name': 'Local Institution', 'status': 'Not yet recruiting', 'city': 'Warszawa', 'zip': '02-776'}\n",
      "{'_id': ObjectId('5cb36e58ecb18b0180aac672'), 'NCT': 'NCT01592370', 'name': 'Local Institution', 'status': 'Not yet recruiting', 'city': 'Wroclaw', 'zip': '50-367'}\n"
     ]
    }
   ],
   "source": [
    "# Create dataframe from \"data\" object\n",
    "df = pd.DataFrame({'name':data['ctName'],'status':data['ctStatus'],'city':data['ctCity'],'zip':data['ctZip']})\n",
    "# Insert research tag\n",
    "df.insert(0, 'NCT', 'NCT01592370')\n",
    "\n",
    "# Convert the dataframe into a json\n",
    "records = json.loads(df.T.to_json()).values()\n",
    "\n",
    "# Load the json into the collection \"ct_gov\" in the \"clinical_trial_db\" database\n",
    "db.ct_gov.insert_many(records)\n",
    "\n",
    "# Show contents of database\n",
    "records=db.ct_gov.find()\n",
    "for record in records:\n",
    "    print(record)"
   ]
  }
 ],
 "metadata": {
  "kernelspec": {
   "display_name": "Python 3",
   "language": "python",
   "name": "python3"
  },
  "language_info": {
   "codemirror_mode": {
    "name": "ipython",
    "version": 3
   },
   "file_extension": ".py",
   "mimetype": "text/x-python",
   "name": "python",
   "nbconvert_exporter": "python",
   "pygments_lexer": "ipython3",
   "version": "3.7.1"
  }
 },
 "nbformat": 4,
 "nbformat_minor": 2
}
