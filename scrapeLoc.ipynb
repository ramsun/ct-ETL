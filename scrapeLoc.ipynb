{
 "cells": [
  {
   "cell_type": "code",
   "execution_count": 1,
   "metadata": {},
   "outputs": [],
   "source": [
    "import bs4\n",
    "from collections import defaultdict    \n",
    "from bs4 import BeautifulSoup    \n",
    "import requests\n",
    "import pandas as pd\n",
    "import pymongo\n",
    "import json\n",
    "from bson import json_util\n"
   ]
  },
  {
   "cell_type": "code",
   "execution_count": 2,
   "metadata": {},
   "outputs": [
    {
     "data": {
      "text/plain": [
       "{'ns': 'clinical_trial_db.ct_gov', 'nIndexesWas': 1, 'ok': 1.0}"
      ]
     },
     "execution_count": 2,
     "metadata": {},
     "output_type": "execute_result"
    }
   ],
   "source": [
    "conn = 'mongodb://localhost:27017'\n",
    "client = pymongo.MongoClient(conn)\n",
    "\n",
    "# Create a new database\n",
    "db = client.clinical_trial_db\n",
    "\n",
    "# Create a new collection and reset the collection\n",
    "collection = db.ct_gov\n",
    "db.drop_collection(collection)"
   ]
  },
  {
   "cell_type": "code",
   "execution_count": 3,
   "metadata": {},
   "outputs": [],
   "source": [
    "def clinicalTrialsGov(nctid):\n",
    "    data = defaultdict(list)\n",
    "    soup = BeautifulSoup(requests.get(\"https://clinicaltrials.gov/ct2/show/\" + nctid + \"?displayxml=true\").text, \"xml\")\n",
    "    subset = ['name','status','city', 'zip']\n",
    "    for tag in soup.find_all(subset):\n",
    "        data['ct{}'.format(tag.name.capitalize())].append(tag.get_text(strip=True))\n",
    "\n",
    "    for key in data:\n",
    "        print('{}: {}'.format(key, ', '.join(data[key])))\n",
    "    return data"
   ]
  },
  {
   "cell_type": "code",
   "execution_count": 4,
   "metadata": {},
   "outputs": [
    {
     "name": "stdout",
     "output_type": "stream",
     "text": [
      "ctName: Local Institution, Local Institution, Local Institution, Division Of Hematology & Oncology Ctr. For Health Sciences, University of Colorado Denver, Yale University School Of Medicine, Local Institution, Local Institution, Cancer Institute Of Florida, Local Institution, Local Institution, Local Institution, Indiana University Melvin & Bren Simon Cancer Center, Local Institution, University Of Kansas Medical Center, The Sidney Kimmel Comprehensive Cancer Center, Dana Farber Cancer Institute, Dana-Farber Cancer Institute, University Of Michigan Health System, Mayo Clinic, Local Institution, Nebraska Cancer Specialists, John Theurer Cancer Center, Memorial Sloan Kettering Cancer Center, Local Institution, Ohio State University, Local Institution, OHSU Center for Hematologic Malignancies, Abramson Cancer Center, Fox Chase Cancer Center, Local Institution, Local Institution, Local Institution, Local Institution, Huntsman Cancer Institute At The Univ. Of Utah, Local Institution, Local Institution, Local Institution, Local Institution, Local Institution, Local Institution, Local Institution, Local Institution, Local Institution, Local Institution, Local Institution, Local Institution\n",
      "ctCity: Little Rock, Fresno, Long Beach, Los Angeles, Aurora, New Haven, Gainesville, Miami, Orlando, Tampa, Atlanta, Skokie, Indianapolis, Lafayette, Kansas City, Baltimore, Boston, Boston, Ann Arbor, Rochester, Saint Louis, Omaha, Hackensack, New York, Cleveland, Columbus, Oklahoma City, Portland, Philadelphia, Philadelphia, Pittsburgh, Knoxville, Murray, Saint George, Salt Lake City, Salt Lake City, Milwaukee, Impact Migration, Sint-Niklaas, Yvoir, Nantes, Poitiers, Athens, Chorzow, Poznan, Warszawa, Wroclaw\n",
      "ctZip: 72205, 93701, 90813, 90095, 80045, 06520, 32608, 33136, 32804, 33612-9497, 30322, 60077, 46202, 47905, 66205, 21231, 02215, 02215, 48109, 55905, 63110, 68130, 07601, 10065, 44195, 43210, 73142, 97239, 19104, 19111, 15232, 37920, 84107, 84770, 84112, 84143-0001, 53226, 9000, 9100, 5530, 44093, 86021, 11528, 41-500, 60-569, 02-776, 50-367\n",
      "ctStatus: Withdrawn, Not yet recruiting, Withdrawn, Active, not recruiting, Recruiting, Completed, Withdrawn, Withdrawn, Recruiting, Withdrawn, Withdrawn, Not yet recruiting, Recruiting, Withdrawn, Recruiting, Recruiting, Recruiting, Recruiting, Active, not recruiting, Recruiting, Withdrawn, Recruiting, Active, not recruiting, Recruiting, Withdrawn, Recruiting, Withdrawn, Recruiting, Completed, Active, not recruiting, Not yet recruiting, Not yet recruiting, Withdrawn, Not yet recruiting, Recruiting, Withdrawn, Withdrawn, Not yet recruiting, Not yet recruiting, Not yet recruiting, Not yet recruiting, Recruiting, Not yet recruiting, Not yet recruiting, Not yet recruiting, Not yet recruiting, Not yet recruiting\n"
     ]
    }
   ],
   "source": [
    "data = clinicalTrialsGov('NCT01592370')"
   ]
  },
  {
   "cell_type": "code",
   "execution_count": 5,
   "metadata": {
    "scrolled": true
   },
   "outputs": [
    {
     "data": {
      "text/plain": [
       "<pymongo.results.InsertManyResult at 0x1f5b51b2808>"
      ]
     },
     "execution_count": 5,
     "metadata": {},
     "output_type": "execute_result"
    }
   ],
   "source": [
    "df = pd.DataFrame({'name':data['ctName'],'status':data['ctStatus'],'city':data['ctCity'],'zip':data['ctZip']})\n",
    "df.insert(0, 'NCT', 'NCT01592370')\n",
    "# df.reset_index().to_json(orient='records')\n",
    "\n",
    "# ctjson = df.to_json (r'C:\\Users\\krystal.sanhudo\\Desktop\\ETLct\\json.json1', orient='records')\n",
    "\n",
    "records = json.loads(df.T.to_json()).values()\n",
    "db.ct_gov.insert_many(records)\n",
    "\n",
    "records=db.ct_gov.find()\n",
    "for record in records:\n",
    "    print(record)\n",
    "# collection.insert_one(json)"
   ]
  },
  {
   "cell_type": "code",
   "execution_count": 9,
   "metadata": {},
   "outputs": [
    {
     "name": "stdout",
     "output_type": "stream",
     "text": [
      "{'_id': ObjectId('5cb205efc1a0790700526ef4'), 'NCT': 'NCT01592370', 'name': 'Local Institution', 'status': 'Withdrawn', 'city': 'Little Rock', 'zip': '72205'}\n",
      "{'_id': ObjectId('5cb205efc1a0790700526ef5'), 'NCT': 'NCT01592370', 'name': 'Local Institution', 'status': 'Not yet recruiting', 'city': 'Fresno', 'zip': '93701'}\n",
      "{'_id': ObjectId('5cb205efc1a0790700526ef6'), 'NCT': 'NCT01592370', 'name': 'Local Institution', 'status': 'Withdrawn', 'city': 'Long Beach', 'zip': '90813'}\n",
      "{'_id': ObjectId('5cb205efc1a0790700526ef7'), 'NCT': 'NCT01592370', 'name': 'Division Of Hematology & Oncology Ctr. For Health Sciences', 'status': 'Active, not recruiting', 'city': 'Los Angeles', 'zip': '90095'}\n",
      "{'_id': ObjectId('5cb205efc1a0790700526ef8'), 'NCT': 'NCT01592370', 'name': 'University of Colorado Denver', 'status': 'Recruiting', 'city': 'Aurora', 'zip': '80045'}\n",
      "{'_id': ObjectId('5cb205efc1a0790700526ef9'), 'NCT': 'NCT01592370', 'name': 'Yale University School Of Medicine', 'status': 'Completed', 'city': 'New Haven', 'zip': '06520'}\n",
      "{'_id': ObjectId('5cb205efc1a0790700526efa'), 'NCT': 'NCT01592370', 'name': 'Local Institution', 'status': 'Withdrawn', 'city': 'Gainesville', 'zip': '32608'}\n",
      "{'_id': ObjectId('5cb205efc1a0790700526efb'), 'NCT': 'NCT01592370', 'name': 'Local Institution', 'status': 'Withdrawn', 'city': 'Miami', 'zip': '33136'}\n",
      "{'_id': ObjectId('5cb205efc1a0790700526efc'), 'NCT': 'NCT01592370', 'name': 'Cancer Institute Of Florida', 'status': 'Recruiting', 'city': 'Orlando', 'zip': '32804'}\n",
      "{'_id': ObjectId('5cb205efc1a0790700526efd'), 'NCT': 'NCT01592370', 'name': 'Local Institution', 'status': 'Withdrawn', 'city': 'Tampa', 'zip': '33612-9497'}\n",
      "{'_id': ObjectId('5cb205efc1a0790700526efe'), 'NCT': 'NCT01592370', 'name': 'Local Institution', 'status': 'Withdrawn', 'city': 'Atlanta', 'zip': '30322'}\n",
      "{'_id': ObjectId('5cb205efc1a0790700526eff'), 'NCT': 'NCT01592370', 'name': 'Local Institution', 'status': 'Not yet recruiting', 'city': 'Skokie', 'zip': '60077'}\n",
      "{'_id': ObjectId('5cb205efc1a0790700526f00'), 'NCT': 'NCT01592370', 'name': 'Indiana University Melvin & Bren Simon Cancer Center', 'status': 'Recruiting', 'city': 'Indianapolis', 'zip': '46202'}\n",
      "{'_id': ObjectId('5cb205efc1a0790700526f01'), 'NCT': 'NCT01592370', 'name': 'Local Institution', 'status': 'Withdrawn', 'city': 'Lafayette', 'zip': '47905'}\n",
      "{'_id': ObjectId('5cb205efc1a0790700526f02'), 'NCT': 'NCT01592370', 'name': 'University Of Kansas Medical Center', 'status': 'Recruiting', 'city': 'Kansas City', 'zip': '66205'}\n",
      "{'_id': ObjectId('5cb205efc1a0790700526f03'), 'NCT': 'NCT01592370', 'name': 'The Sidney Kimmel Comprehensive Cancer Center', 'status': 'Recruiting', 'city': 'Baltimore', 'zip': '21231'}\n",
      "{'_id': ObjectId('5cb205efc1a0790700526f04'), 'NCT': 'NCT01592370', 'name': 'Dana Farber Cancer Institute', 'status': 'Recruiting', 'city': 'Boston', 'zip': '02215'}\n",
      "{'_id': ObjectId('5cb205efc1a0790700526f05'), 'NCT': 'NCT01592370', 'name': 'Dana-Farber Cancer Institute', 'status': 'Recruiting', 'city': 'Boston', 'zip': '02215'}\n",
      "{'_id': ObjectId('5cb205efc1a0790700526f06'), 'NCT': 'NCT01592370', 'name': 'University Of Michigan Health System', 'status': 'Active, not recruiting', 'city': 'Ann Arbor', 'zip': '48109'}\n",
      "{'_id': ObjectId('5cb205efc1a0790700526f07'), 'NCT': 'NCT01592370', 'name': 'Mayo Clinic', 'status': 'Recruiting', 'city': 'Rochester', 'zip': '55905'}\n",
      "{'_id': ObjectId('5cb205efc1a0790700526f08'), 'NCT': 'NCT01592370', 'name': 'Local Institution', 'status': 'Withdrawn', 'city': 'Saint Louis', 'zip': '63110'}\n",
      "{'_id': ObjectId('5cb205efc1a0790700526f09'), 'NCT': 'NCT01592370', 'name': 'Nebraska Cancer Specialists', 'status': 'Recruiting', 'city': 'Omaha', 'zip': '68130'}\n",
      "{'_id': ObjectId('5cb205efc1a0790700526f0a'), 'NCT': 'NCT01592370', 'name': 'John Theurer Cancer Center', 'status': 'Active, not recruiting', 'city': 'Hackensack', 'zip': '07601'}\n",
      "{'_id': ObjectId('5cb205efc1a0790700526f0b'), 'NCT': 'NCT01592370', 'name': 'Memorial Sloan Kettering Cancer Center', 'status': 'Recruiting', 'city': 'New York', 'zip': '10065'}\n",
      "{'_id': ObjectId('5cb205efc1a0790700526f0c'), 'NCT': 'NCT01592370', 'name': 'Local Institution', 'status': 'Withdrawn', 'city': 'Cleveland', 'zip': '44195'}\n",
      "{'_id': ObjectId('5cb205efc1a0790700526f0d'), 'NCT': 'NCT01592370', 'name': 'Ohio State University', 'status': 'Recruiting', 'city': 'Columbus', 'zip': '43210'}\n",
      "{'_id': ObjectId('5cb205efc1a0790700526f0e'), 'NCT': 'NCT01592370', 'name': 'Local Institution', 'status': 'Withdrawn', 'city': 'Oklahoma City', 'zip': '73142'}\n",
      "{'_id': ObjectId('5cb205efc1a0790700526f0f'), 'NCT': 'NCT01592370', 'name': 'OHSU Center for Hematologic Malignancies', 'status': 'Recruiting', 'city': 'Portland', 'zip': '97239'}\n",
      "{'_id': ObjectId('5cb205efc1a0790700526f10'), 'NCT': 'NCT01592370', 'name': 'Abramson Cancer Center', 'status': 'Completed', 'city': 'Philadelphia', 'zip': '19104'}\n",
      "{'_id': ObjectId('5cb205efc1a0790700526f11'), 'NCT': 'NCT01592370', 'name': 'Fox Chase Cancer Center', 'status': 'Active, not recruiting', 'city': 'Philadelphia', 'zip': '19111'}\n",
      "{'_id': ObjectId('5cb205efc1a0790700526f12'), 'NCT': 'NCT01592370', 'name': 'Local Institution', 'status': 'Not yet recruiting', 'city': 'Pittsburgh', 'zip': '15232'}\n",
      "{'_id': ObjectId('5cb205efc1a0790700526f13'), 'NCT': 'NCT01592370', 'name': 'Local Institution', 'status': 'Not yet recruiting', 'city': 'Knoxville', 'zip': '37920'}\n",
      "{'_id': ObjectId('5cb205efc1a0790700526f14'), 'NCT': 'NCT01592370', 'name': 'Local Institution', 'status': 'Withdrawn', 'city': 'Murray', 'zip': '84107'}\n",
      "{'_id': ObjectId('5cb205efc1a0790700526f15'), 'NCT': 'NCT01592370', 'name': 'Local Institution', 'status': 'Not yet recruiting', 'city': 'Saint George', 'zip': '84770'}\n",
      "{'_id': ObjectId('5cb205efc1a0790700526f16'), 'NCT': 'NCT01592370', 'name': 'Huntsman Cancer Institute At The Univ. Of Utah', 'status': 'Recruiting', 'city': 'Salt Lake City', 'zip': '84112'}\n",
      "{'_id': ObjectId('5cb205efc1a0790700526f17'), 'NCT': 'NCT01592370', 'name': 'Local Institution', 'status': 'Withdrawn', 'city': 'Salt Lake City', 'zip': '84143-0001'}\n",
      "{'_id': ObjectId('5cb205efc1a0790700526f18'), 'NCT': 'NCT01592370', 'name': 'Local Institution', 'status': 'Withdrawn', 'city': 'Milwaukee', 'zip': '53226'}\n",
      "{'_id': ObjectId('5cb205efc1a0790700526f19'), 'NCT': 'NCT01592370', 'name': 'Local Institution', 'status': 'Not yet recruiting', 'city': 'Impact Migration', 'zip': '9000'}\n",
      "{'_id': ObjectId('5cb205efc1a0790700526f1a'), 'NCT': 'NCT01592370', 'name': 'Local Institution', 'status': 'Not yet recruiting', 'city': 'Sint-Niklaas', 'zip': '9100'}\n",
      "{'_id': ObjectId('5cb205efc1a0790700526f1b'), 'NCT': 'NCT01592370', 'name': 'Local Institution', 'status': 'Not yet recruiting', 'city': 'Yvoir', 'zip': '5530'}\n",
      "{'_id': ObjectId('5cb205efc1a0790700526f1c'), 'NCT': 'NCT01592370', 'name': 'Local Institution', 'status': 'Not yet recruiting', 'city': 'Nantes', 'zip': '44093'}\n",
      "{'_id': ObjectId('5cb205efc1a0790700526f1d'), 'NCT': 'NCT01592370', 'name': 'Local Institution', 'status': 'Recruiting', 'city': 'Poitiers', 'zip': '86021'}\n",
      "{'_id': ObjectId('5cb205efc1a0790700526f1e'), 'NCT': 'NCT01592370', 'name': 'Local Institution', 'status': 'Not yet recruiting', 'city': 'Athens', 'zip': '11528'}\n",
      "{'_id': ObjectId('5cb205efc1a0790700526f1f'), 'NCT': 'NCT01592370', 'name': 'Local Institution', 'status': 'Not yet recruiting', 'city': 'Chorzow', 'zip': '41-500'}\n",
      "{'_id': ObjectId('5cb205efc1a0790700526f20'), 'NCT': 'NCT01592370', 'name': 'Local Institution', 'status': 'Not yet recruiting', 'city': 'Poznan', 'zip': '60-569'}\n",
      "{'_id': ObjectId('5cb205efc1a0790700526f21'), 'NCT': 'NCT01592370', 'name': 'Local Institution', 'status': 'Not yet recruiting', 'city': 'Warszawa', 'zip': '02-776'}\n",
      "{'_id': ObjectId('5cb205efc1a0790700526f22'), 'NCT': 'NCT01592370', 'name': 'Local Institution', 'status': 'Not yet recruiting', 'city': 'Wroclaw', 'zip': '50-367'}\n"
     ]
    }
   ],
   "source": [
    "records=db.ct_gov.find()\n",
    "for record in records:\n",
    "    print(record)"
   ]
  },
  {
   "cell_type": "code",
   "execution_count": null,
   "metadata": {},
   "outputs": [],
   "source": []
  },
  {
   "cell_type": "code",
   "execution_count": 7,
   "metadata": {},
   "outputs": [],
   "source": [
    "# export_csv = df.to_csv (r'C:\\Users\\krystal.sanhudo\\Desktop\\ETLct\\ct-ETL.csv', index = None, header=True)"
   ]
  },
  {
   "cell_type": "code",
   "execution_count": 8,
   "metadata": {},
   "outputs": [],
   "source": [
    "# df = pd.DataFrame({'name':data['ctName'],'status':data['ctStatus'],'address':data['ctAddress']})"
   ]
  }
 ],
 "metadata": {
  "kernelspec": {
   "display_name": "Python 3",
   "language": "python",
   "name": "python3"
  },
  "language_info": {
   "codemirror_mode": {
    "name": "ipython",
    "version": 3
   },
   "file_extension": ".py",
   "mimetype": "text/x-python",
   "name": "python",
   "nbconvert_exporter": "python",
   "pygments_lexer": "ipython3",
   "version": "3.7.1"
  }
 },
 "nbformat": 4,
 "nbformat_minor": 2
}
