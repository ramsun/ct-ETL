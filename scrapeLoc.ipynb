{
 "cells": [
  {
   "cell_type": "code",
   "execution_count": 5,
   "metadata": {},
   "outputs": [],
   "source": [
    "import bs4\n",
    "from collections import defaultdict    \n",
    "from bs4 import BeautifulSoup    \n",
    "import requests\n",
    "import pandas as pd"
   ]
  },
  {
   "cell_type": "code",
   "execution_count": 7,
   "metadata": {},
   "outputs": [],
   "source": [
    "def clinicalTrialsGov(nctid):\n",
    "    data = defaultdict(list)\n",
    "    soup = BeautifulSoup(requests.get(\"https://clinicaltrials.gov/ct2/show/\" + nctid + \"?displayxml=true\").text, \"xml\")\n",
    "    subset = ['name','status','city','zip']\n",
    "    for tag in soup.find_all(subset):\n",
    "        data['ct{}'.format(tag.name.capitalize())].append(tag.get_text(strip=True))\n",
    "\n",
    "    for key in data:\n",
    "        print('{}: {}'.format(key, ', '.join(data[key])))\n",
    "    return data"
   ]
  },
  {
   "cell_type": "code",
   "execution_count": 10,
   "metadata": {},
   "outputs": [
    {
     "name": "stdout",
     "output_type": "stream",
     "text": [
      "ctName: Local Institution, Local Institution, Local Institution, Division Of Hematology & Oncology Ctr. For Health Sciences, University of Colorado Denver, Yale University School Of Medicine, Local Institution, Local Institution, Cancer Institute Of Florida, Local Institution, Local Institution, Local Institution, Indiana University Melvin & Bren Simon Cancer Center, Local Institution, University Of Kansas Medical Center, The Sidney Kimmel Comprehensive Cancer Center, Dana Farber Cancer Institute, Dana-Farber Cancer Institute, University Of Michigan Health System, Mayo Clinic, Local Institution, Nebraska Cancer Specialists, John Theurer Cancer Center, Memorial Sloan Kettering Cancer Center, Local Institution, Ohio State University, Local Institution, OHSU Center for Hematologic Malignancies, Abramson Cancer Center, Fox Chase Cancer Center, Local Institution, Local Institution, Local Institution, Local Institution, Huntsman Cancer Institute At The Univ. Of Utah, Local Institution, Local Institution, Local Institution, Local Institution, Local Institution, Local Institution, Local Institution, Local Institution, Local Institution, Local Institution, Local Institution, Local Institution\n",
      "ctCity: Little Rock, Fresno, Long Beach, Los Angeles, Aurora, New Haven, Gainesville, Miami, Orlando, Tampa, Atlanta, Skokie, Indianapolis, Lafayette, Kansas City, Baltimore, Boston, Boston, Ann Arbor, Rochester, Saint Louis, Omaha, Hackensack, New York, Cleveland, Columbus, Oklahoma City, Portland, Philadelphia, Philadelphia, Pittsburgh, Knoxville, Murray, Saint George, Salt Lake City, Salt Lake City, Milwaukee, Impact Migration, Sint-Niklaas, Yvoir, Nantes, Poitiers, Athens, Chorzow, Poznan, Warszawa, Wroclaw\n",
      "ctState: Arkansas, California, California, California, Colorado, Connecticut, Florida, Florida, Florida, Florida, Georgia, Illinois, Indiana, Indiana, Kansas, Maryland, Massachusetts, Massachusetts, Michigan, Minnesota, Missouri, Nebraska, New Jersey, New York, Ohio, Ohio, Oklahoma, Oregon, Pennsylvania, Pennsylvania, Pennsylvania, Tennessee, Utah, Utah, Utah, Utah, Wisconsin\n",
      "ctZip: 72205, 93701, 90813, 90095, 80045, 06520, 32608, 33136, 32804, 33612-9497, 30322, 60077, 46202, 47905, 66205, 21231, 02215, 02215, 48109, 55905, 63110, 68130, 07601, 10065, 44195, 43210, 73142, 97239, 19104, 19111, 15232, 37920, 84107, 84770, 84112, 84143-0001, 53226, 9000, 9100, 5530, 44093, 86021, 11528, 41-500, 60-569, 02-776, 50-367\n",
      "ctCountry: United States, United States, United States, United States, United States, United States, United States, United States, United States, United States, United States, United States, United States, United States, United States, United States, United States, United States, United States, United States, United States, United States, United States, United States, United States, United States, United States, United States, United States, United States, United States, United States, United States, United States, United States, United States, United States, Belgium, Belgium, Belgium, France, France, Greece, Poland, Poland, Poland, Poland, Belgium, France, Greece, Poland, United States\n"
     ]
    }
   ],
   "source": [
    "trial1 = clinicalTrialsGov('NCT01592370')"
   ]
  },
  {
   "cell_type": "code",
   "execution_count": 14,
   "metadata": {},
   "outputs": [
    {
     "data": {
      "text/html": [
       "<div>\n",
       "<style scoped>\n",
       "    .dataframe tbody tr th:only-of-type {\n",
       "        vertical-align: middle;\n",
       "    }\n",
       "\n",
       "    .dataframe tbody tr th {\n",
       "        vertical-align: top;\n",
       "    }\n",
       "\n",
       "    .dataframe thead th {\n",
       "        text-align: right;\n",
       "    }\n",
       "</style>\n",
       "<table border=\"1\" class=\"dataframe\">\n",
       "  <thead>\n",
       "    <tr style=\"text-align: right;\">\n",
       "      <th></th>\n",
       "    </tr>\n",
       "  </thead>\n",
       "  <tbody>\n",
       "  </tbody>\n",
       "</table>\n",
       "</div>"
      ],
      "text/plain": [
       "Empty DataFrame\n",
       "Columns: []\n",
       "Index: []"
      ]
     },
     "execution_count": 14,
     "metadata": {},
     "output_type": "execute_result"
    }
   ],
   "source": [
    "print(data)\n",
    "\n",
    "df=pd.DataFrame(\n",
    "    {'name': ctName,\n",
    "     'status': ctStatus,\n",
    "     'city': ctCity,\n",
    "     \"zip\": ctZip\n",
    "    })"
   ]
  }
 ],
 "metadata": {
  "kernelspec": {
   "display_name": "Python 3",
   "language": "python",
   "name": "python3"
  },
  "language_info": {
   "codemirror_mode": {
    "name": "ipython",
    "version": 3
   },
   "file_extension": ".py",
   "mimetype": "text/x-python",
   "name": "python",
   "nbconvert_exporter": "python",
   "pygments_lexer": "ipython3",
   "version": "3.7.1"
  }
 },
 "nbformat": 4,
 "nbformat_minor": 2
}
